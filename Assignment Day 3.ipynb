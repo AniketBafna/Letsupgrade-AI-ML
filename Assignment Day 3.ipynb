{
 "cells": [
  {
   "cell_type": "markdown",
   "metadata": {},
   "source": [
    "# Question 1:\n",
    "### Write a program to subtract two complex numbers in python."
   ]
  },
  {
   "cell_type": "code",
   "execution_count": 3,
   "metadata": {},
   "outputs": [
    {
     "name": "stdout",
     "output_type": "stream",
     "text": [
      "(8-0.5j)\n"
     ]
    }
   ],
   "source": [
    "a = 9+1j\n",
    "b = 1+1.5j\n",
    "c = a-b\n",
    "print(c)"
   ]
  },
  {
   "cell_type": "markdown",
   "metadata": {},
   "source": [
    "# Question 2:\n",
    "### Write a program to find the fourth root of a number."
   ]
  },
  {
   "cell_type": "code",
   "execution_count": 4,
   "metadata": {},
   "outputs": [
    {
     "name": "stdout",
     "output_type": "stream",
     "text": [
      "The Fourth root is 1.5650845800732873\n"
     ]
    }
   ],
   "source": [
    "a = 6\n",
    "num_4rt = a**0.25\n",
    "print(\"The Fourth root is\", num_4rt)"
   ]
  },
  {
   "cell_type": "markdown",
   "metadata": {},
   "source": [
    "# Question 3:\n",
    "### Write a program to swap two numbers in python with the help of a temporary variable.\n"
   ]
  },
  {
   "cell_type": "code",
   "execution_count": 9,
   "metadata": {},
   "outputs": [
    {
     "name": "stdout",
     "output_type": "stream",
     "text": [
      "Enter the number:1\n",
      "Enter the number:10\n",
      "The value of x is: 10\n",
      "The value of y is: 1\n",
      "The value of x and y after swapping is: ('10', '1')\n"
     ]
    }
   ],
   "source": [
    "x = input(\"Enter the number:\")\n",
    "y = input(\"Enter the number:\")\n",
    "z=x,y=y,x\n",
    "print(\"The value of x is:\", x)\n",
    "print(\"The value of y is:\", y)\n",
    "print(\"The value of x and y after swapping is:\", z)\n"
   ]
  },
  {
   "cell_type": "markdown",
   "metadata": {},
   "source": [
    "# Question 4:\n",
    "### Write a program to swap twp numbers in python without using a temporary variable."
   ]
  },
  {
   "cell_type": "code",
   "execution_count": 24,
   "metadata": {},
   "outputs": [
    {
     "name": "stdout",
     "output_type": "stream",
     "text": [
      "Value of x:2\n",
      "Value of y:9\n",
      "The value of x after swapping: 9\n",
      "The value of y after swapping: 2\n"
     ]
    }
   ],
   "source": [
    "x = int(input(\"Value of x:\"))\n",
    "y = int(input(\"Value of y:\"))\n",
    "z = x+y\n",
    "a = z-y\n",
    "b = z-a\n",
    "print(\"The value of x after swapping:\", b)\n",
    "print(\"The value of y after swapping:\", a)"
   ]
  },
  {
   "cell_type": "markdown",
   "metadata": {},
   "source": [
    "# Question 5:\n",
    "### Write a program to convert Fahrenheit to kelvin and celcius both."
   ]
  },
  {
   "cell_type": "code",
   "execution_count": 1,
   "metadata": {},
   "outputs": [
    {
     "name": "stdout",
     "output_type": "stream",
     "text": [
      "Value of Fahrenheit:60\n",
      "Value in Celcius 15.555555555555555\n",
      "Value in Kelvin 288.7055555555555\n"
     ]
    }
   ],
   "source": [
    "a = input(\"Value of Fahrenheit:\")\n",
    "f = int(a)\n",
    "c = (f-32)*5/9\n",
    "k = c+273.15\n",
    "print(\"Value in Celcius\", c)\n",
    "print(\"Value in Kelvin\", k)"
   ]
  },
  {
   "cell_type": "markdown",
   "metadata": {},
   "source": [
    "# Question 6:\n",
    "### Write a program to demonstrate all the available data types in Python."
   ]
  },
  {
   "cell_type": "code",
   "execution_count": 2,
   "metadata": {},
   "outputs": [
    {
     "name": "stdout",
     "output_type": "stream",
     "text": [
      "<class 'str'>\n",
      "<class 'int'>\n",
      "<class 'float'>\n",
      "<class 'complex'>\n",
      "<class 'list'>\n",
      "<class 'tuple'>\n",
      "<class 'dict'>\n"
     ]
    }
   ],
   "source": [
    "a = \"Aniket\"\n",
    "b = 123456\n",
    "c = 1.25\n",
    "d = 2+5j\n",
    "e = [\"apple\", \"banana\", \"Human\"]\n",
    "f = (\"India\", \"Australia\", \"USA\")\n",
    "g = {\"name\": \"Aniket\", \"age\":\"21\"}\n",
    "print(type(a))\n",
    "print(type(b))\n",
    "print(type(c))\n",
    "print(type(d))\n",
    "print(type(e))\n",
    "print(type(f))\n",
    "print(type(g))"
   ]
  },
  {
   "cell_type": "code",
   "execution_count": null,
   "metadata": {},
   "outputs": [],
   "source": []
  }
 ],
 "metadata": {
  "kernelspec": {
   "display_name": "Python 3",
   "language": "python",
   "name": "python3"
  },
  "language_info": {
   "codemirror_mode": {
    "name": "ipython",
    "version": 3
   },
   "file_extension": ".py",
   "mimetype": "text/x-python",
   "name": "python",
   "nbconvert_exporter": "python",
   "pygments_lexer": "ipython3",
   "version": "3.7.6"
  }
 },
 "nbformat": 4,
 "nbformat_minor": 4
}
