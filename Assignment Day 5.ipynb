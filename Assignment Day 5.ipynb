{
 "cells": [
  {
   "cell_type": "markdown",
   "metadata": {},
   "source": [
    "# Question 1\n",
    "### Write a program to find the first 20 non-even prime natural numbers."
   ]
  },
  {
   "cell_type": "code",
   "execution_count": 2,
   "metadata": {},
   "outputs": [
    {
     "name": "stdout",
     "output_type": "stream",
     "text": [
      "prime number 3\n",
      "prime number 5\n",
      "prime number 7\n",
      "prime number 11\n",
      "prime number 13\n",
      "prime number 17\n",
      "prime number 19\n",
      "prime number 23\n",
      "prime number 29\n",
      "prime number 31\n",
      "prime number 37\n",
      "prime number 41\n",
      "prime number 43\n",
      "prime number 47\n",
      "prime number 53\n",
      "prime number 59\n",
      "prime number 61\n",
      "prime number 67\n",
      "prime number 71\n",
      "prime number 73\n"
     ]
    }
   ],
   "source": [
    "count=0\n",
    "i=1\n",
    "while count!=20:\n",
    "    flag=0\n",
    "    i+=2\n",
    "    for x in range(2,i):\n",
    "        if i%x==0:\n",
    "            flag=1\n",
    "            break\n",
    "    if flag==0:\n",
    "        print(\"prime number\",i)\n",
    "        count+=1"
   ]
  },
  {
   "cell_type": "markdown",
   "metadata": {},
   "source": [
    "# Question 2\n",
    "### Write a Python program to implement 15 functions of string."
   ]
  },
  {
   "cell_type": "code",
   "execution_count": 55,
   "metadata": {},
   "outputs": [
    {
     "name": "stdout",
     "output_type": "stream",
     "text": [
      "The Function is capitalize: Hello! i am aniket bafna.\n",
      "The Function is casefolded: hello! i am aniket bafna.\n",
      "The Function is centered:             hello! i am aniket bafna.             \n",
      "The Function is count: 2\n",
      "The Function is encoded: b'hello! i am aniket bafna.'\n",
      "The Function is endswith: True\n",
      "The Function is expandtabs: hello! i am aniket bafna.\n",
      "The Function is find: 9\n",
      "The Function is upper: HELLO! I AM ANIKET BAFNA.\n",
      "The Function is swapcase: HELLO! I AM ANIKET BAFNA.\n",
      "The Function is title: Hello! I Am Aniket Bafna.\n",
      "The Function is rsplit: ['hello!', 'i', 'am', 'aniket', 'bafna.']\n",
      "The Function is splitlines: ['hello! i am aniket bafna.']\n",
      "The Function is lstrip: hello! i am aniket bafna.\n",
      "The Function is isupper: False\n"
     ]
    }
   ],
   "source": [
    "def name():\n",
    "    return 'hello! i am aniket bafna.'\n",
    "\n",
    "print(\"The Function is capitalize:\", name().capitalize())\n",
    "\n",
    "print(\"The Function is casefolded:\", name().casefold())\n",
    "\n",
    "print(\"The Function is centered:\", name().center(50))\n",
    "\n",
    "print(\"The Function is count:\", name().count(\"i\"))\n",
    "\n",
    "print(\"The Function is encoded:\", name().encode())\n",
    "\n",
    "print(\"The Function is endswith:\", name().endswith(\".\"))\n",
    "\n",
    "print(\"The Function is expandtabs:\", name().expandtabs(2))\n",
    "\n",
    "print(\"The Function is find:\", name().find(\"a\"))\n",
    "\n",
    "print(\"The Function is upper:\", name().upper())\n",
    "\n",
    "print(\"The Function is swapcase:\", name().swapcase())\n",
    "\n",
    "print(\"The Function is title:\", name().title())\n",
    "\n",
    "print(\"The Function is rsplit:\", name().rsplit())\n",
    "\n",
    "print(\"The Function is splitlines:\", name().splitlines())\n",
    "\n",
    "print(\"The Function is lstrip:\", name().lstrip())\n",
    "\n",
    "print(\"The Function is isupper:\", name().isupper())"
   ]
  },
  {
   "cell_type": "markdown",
   "metadata": {},
   "source": [
    "# Question 3\n",
    "### Write a Python program to check if the given string is a Palindrome or Anagram or None of them. Display the message accordingly to the user."
   ]
  },
  {
   "cell_type": "code",
   "execution_count": 5,
   "metadata": {},
   "outputs": [
    {
     "name": "stdout",
     "output_type": "stream",
     "text": [
      "Enter first string : silent\n",
      "Enter second string : listen\n",
      "Entered strings are anagrams\n"
     ]
    }
   ],
   "source": [
    "str1=input(\"Enter first string : \")\n",
    "str2=input(\"Enter second string : \")\n",
    "if sorted(str1)==sorted(str2):\n",
    "    print(\"Entered strings are anagrams\")\n",
    "elif str1==str1[::-1]:\n",
    "    print(str1,\" is a palindrome\")\n",
    "else:\n",
    "    print(\"Neither anagram nor palindrome\")"
   ]
  },
  {
   "cell_type": "markdown",
   "metadata": {},
   "source": [
    "# Question 4\n",
    "### Write a Python's user-defined function that removes all the additional characters from the string and convert it finally to lower case using built-in lower(). eg: if the string is \"Dr. Darshan Ingle @ AIML Trainer\", then the output be \"drdarshaningleaimltrainer\"."
   ]
  },
  {
   "cell_type": "code",
   "execution_count": 6,
   "metadata": {},
   "outputs": [
    {
     "name": "stdout",
     "output_type": "stream",
     "text": [
      "Enter a string: Aniket bafna 51 @ gmail.com\n",
      "aniketbafnagmailcom\n"
     ]
    }
   ],
   "source": [
    "def check(string):\n",
    "    val=\"\"\n",
    "    for i in string:\n",
    "        if i.isalpha():\n",
    "            val+=i\n",
    "    return val.lower()\n",
    "\n",
    "take=input(\"Enter a string: \")\n",
    "print(check(take))"
   ]
  },
  {
   "cell_type": "code",
   "execution_count": null,
   "metadata": {},
   "outputs": [],
   "source": []
  }
 ],
 "metadata": {
  "kernelspec": {
   "display_name": "Python 3",
   "language": "python",
   "name": "python3"
  },
  "language_info": {
   "codemirror_mode": {
    "name": "ipython",
    "version": 3
   },
   "file_extension": ".py",
   "mimetype": "text/x-python",
   "name": "python",
   "nbconvert_exporter": "python",
   "pygments_lexer": "ipython3",
   "version": "3.7.6"
  }
 },
 "nbformat": 4,
 "nbformat_minor": 4
}
