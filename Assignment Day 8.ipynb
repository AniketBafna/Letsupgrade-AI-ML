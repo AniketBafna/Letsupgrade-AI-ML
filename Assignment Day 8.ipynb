{
 "cells": [
  {
   "cell_type": "markdown",
   "metadata": {},
   "source": [
    "# Question 1:\n",
    "Recreate “NB 21 map, filter, lambda.ipynb” to try different variations or perform different calculations from\n",
    "the ones that are in the NB\n"
   ]
  },
  {
   "cell_type": "markdown",
   "metadata": {},
   "source": [
    "map()-\n",
    "It applies the given function to all iterables and returns a new list.\n",
    "\n",
    "SYNTAX:\n",
    "\n",
    "map(function, iterables)\n",
    "\n",
    "\n"
   ]
  },
  {
   "cell_type": "code",
   "execution_count": 5,
   "metadata": {},
   "outputs": [
    {
     "name": "stdout",
     "output_type": "stream",
     "text": [
      "125\n"
     ]
    }
   ],
   "source": [
    "# map(function, iterables)\n",
    "def sqr(a):\n",
    "    return a**3\n",
    "x= sqr(5)\n",
    "print(x)"
   ]
  },
  {
   "cell_type": "code",
   "execution_count": 12,
   "metadata": {},
   "outputs": [
    {
     "name": "stdout",
     "output_type": "stream",
     "text": [
      "<map object at 0x000001E239D8B588>\n",
      "<class 'map'>\n",
      "[1, 4, 9, 16, 25, 36]\n"
     ]
    }
   ],
   "source": [
    "# map(function, iterables)\n",
    "def sqr(a):\n",
    "    return (a**2) \n",
    "# your code goes here2\n",
    "x = map(sqr,[1,2,3,4,5,6])\n",
    "print(x)\n",
    "print(type(x))\n",
    "print(list(x))"
   ]
  },
  {
   "cell_type": "code",
   "execution_count": 14,
   "metadata": {},
   "outputs": [
    {
     "name": "stdout",
     "output_type": "stream",
     "text": [
      "['appleseb', 'bananaorange', 'santraChikuu']\n"
     ]
    }
   ],
   "source": [
    "def con(a,b):\n",
    "    return a+b\n",
    "x=map(con,['apple','banana','santra'],['seb','orange','Chikuu'])\n",
    "print(list(x))"
   ]
  },
  {
   "cell_type": "markdown",
   "metadata": {},
   "source": [
    "## Lambda functions\n",
    "Everything in the world of programming requires a name, but there still there are a few ananymous mysteries. Lambda functions or Lambda expressions are one of these kind of entities that are nameless.\n",
    "SYNTAX:\n",
    "lambda arguments: expression"
   ]
  },
  {
   "cell_type": "code",
   "execution_count": 18,
   "metadata": {},
   "outputs": [
    {
     "data": {
      "text/plain": [
       "27"
      ]
     },
     "execution_count": 18,
     "metadata": {},
     "output_type": "execute_result"
    }
   ],
   "source": [
    "# without lambda\n",
    "def sqr(a):\n",
    "    return a**3\n",
    "\n",
    "sqr(3)"
   ]
  },
  {
   "cell_type": "code",
   "execution_count": 30,
   "metadata": {},
   "outputs": [
    {
     "data": {
      "text/plain": [
       "6"
      ]
     },
     "execution_count": 30,
     "metadata": {},
     "output_type": "execute_result"
    }
   ],
   "source": [
    "x=lambda a: a+1\n",
    "x(5)"
   ]
  },
  {
   "cell_type": "code",
   "execution_count": 35,
   "metadata": {},
   "outputs": [
    {
     "name": "stdout",
     "output_type": "stream",
     "text": [
      "<function abc.<locals>.<lambda> at 0x000001E239E4F828>\n",
      "20\n"
     ]
    }
   ],
   "source": [
    "# lambda within user defined functions\n",
    "def abc(x):\n",
    "    return lambda y: x*y\n",
    "t = abc(5)\n",
    "print(t)\n",
    "print(t(4))"
   ]
  },
  {
   "cell_type": "code",
   "execution_count": 37,
   "metadata": {},
   "outputs": [
    {
     "data": {
      "text/plain": [
       "4.0"
      ]
     },
     "execution_count": 37,
     "metadata": {},
     "output_type": "execute_result"
    }
   ],
   "source": [
    "#expressions\n",
    "z = lambda x,y:  (x+1)*(y+2)/2\n",
    "z(1,2)"
   ]
  },
  {
   "cell_type": "markdown",
   "metadata": {},
   "source": [
    "## filter()\n",
    "It is used to filter the given iterables with the help of another function passed as an argument to test all the elements to be True or False.\n",
    "\n",
    "SYNTAX:\n",
    "\n",
    "filter(function, iterables)"
   ]
  },
  {
   "cell_type": "code",
   "execution_count": 39,
   "metadata": {},
   "outputs": [
    {
     "name": "stdout",
     "output_type": "stream",
     "text": [
      "<filter object at 0x000001E239E52AC8>\n",
      "<class 'filter'>\n",
      "[3, 4, 5]\n"
     ]
    }
   ],
   "source": [
    "# filter(function, iterables)\n",
    "def sqr(a):\n",
    "    if a>=3:\n",
    "        return a\n",
    "# your code goes here1.2\n",
    "x = filter( sqr, [1,2,3,4,5] )\n",
    "print(x)\n",
    "print(type(x))\n",
    "print(list(x))"
   ]
  },
  {
   "cell_type": "code",
   "execution_count": 98,
   "metadata": {},
   "outputs": [
    {
     "name": "stdout",
     "output_type": "stream",
     "text": [
      "18\n",
      "24\n",
      "32\n",
      "45\n",
      "78\n"
     ]
    }
   ],
   "source": [
    "ages = [5, 12, 17, 18, 24, 32,45,78]\n",
    "\n",
    "def myFunc(x):\n",
    "  if x < 18:\n",
    "    return False\n",
    "  else:\n",
    "    return True\n",
    "\n",
    "adults = filter(myFunc, ages)\n",
    "\n",
    "for x in adults:\n",
    " print(x)\n"
   ]
  },
  {
   "cell_type": "code",
   "execution_count": 46,
   "metadata": {},
   "outputs": [
    {
     "name": "stdout",
     "output_type": "stream",
     "text": [
      "[3, 4, 5]\n"
     ]
    }
   ],
   "source": [
    "l = [1,2,3,4,5]\n",
    "print(list(filter( lambda x: x>=3 ,l )))"
   ]
  },
  {
   "cell_type": "markdown",
   "metadata": {},
   "source": [
    "# Question 2:\n",
    "Recreate your own Python NB for “Classes and Objects” from the pdf provided namely\n",
    "“Classes&Objects.pdf”"
   ]
  },
  {
   "cell_type": "code",
   "execution_count": 72,
   "metadata": {},
   "outputs": [
    {
     "name": "stdout",
     "output_type": "stream",
     "text": [
      "mammal\n",
      "dog\n",
      "I'm a mammal\n",
      "I'm a dog\n"
     ]
    }
   ],
   "source": [
    "# a class \n",
    "\n",
    "class Dog: \n",
    "    attr1 = \"mammal\"\n",
    "    attr2 = \"dog\"\n",
    "    \n",
    "    def fun(self): \n",
    "        print(\"I'm a\", self.attr1) \n",
    "        print(\"I'm a\", self.attr2) \n",
    " \n",
    "Rodger= Dog()\n",
    " \n",
    "print(Rodger.attr1) \n",
    "print(Rodger.attr2) \n",
    "Rodger.fun()"
   ]
  },
  {
   "cell_type": "code",
   "execution_count": 55,
   "metadata": {},
   "outputs": [
    {
     "name": "stdout",
     "output_type": "stream",
     "text": [
      "Hello, my name is Ajay\n"
     ]
    }
   ],
   "source": [
    "class Person:  \n",
    "    \n",
    "    # init method or constructor   \n",
    "    def __init__(self, name):  \n",
    "        self.name = name  \n",
    "    \n",
    "       \n",
    "    def say_hi(self):  \n",
    "        print('Hello, my name is', self.name)  \n",
    "    \n",
    "p = Person('Ajay')  \n",
    "p.say_hi() "
   ]
  },
  {
   "cell_type": "code",
   "execution_count": 80,
   "metadata": {},
   "outputs": [
    {
     "name": "stdout",
     "output_type": "stream",
     "text": [
      "Hello my name is John 36\n"
     ]
    }
   ],
   "source": [
    "class Person:\n",
    "    def __init__(self, name, age):\n",
    "        self.name = name\n",
    "        self.age = age\n",
    "\n",
    "    def myfunc(self):\n",
    "        print(\"Hello my name is \" + self.name, + self.age)\n",
    "\n",
    "p1 = Person(\"John\", 36)\n",
    "p1.myfunc()\n"
   ]
  },
  {
   "cell_type": "markdown",
   "metadata": {},
   "source": [
    "## Instances a return values\n",
    "In Python, methods and functions can return class instances"
   ]
  },
  {
   "cell_type": "code",
   "execution_count": 99,
   "metadata": {},
   "outputs": [
    {
     "name": "stdout",
     "output_type": "stream",
     "text": [
      "12\n",
      "4 3\n",
      "7\n",
      "99 88\n",
      "false\n"
     ]
    }
   ],
   "source": [
    "# Program to use instances as return values\n",
    "class st:\n",
    "    def add(self,a,b):\n",
    "        a1=a\n",
    "        b1=b\n",
    "        print(a1*b1)\n",
    "        print(a,b)\n",
    "        a=99\n",
    "        b=88\n",
    "        print(a1+b1)\n",
    "        print(a,b)\n",
    "        if a<b:\n",
    "            print('true')\n",
    "        else:\n",
    "            print('false')    \n",
    "s=st()\n",
    "s.add(4,3)"
   ]
  },
  {
   "cell_type": "markdown",
   "metadata": {},
   "source": [
    "## Polymorphism"
   ]
  },
  {
   "cell_type": "code",
   "execution_count": 93,
   "metadata": {},
   "outputs": [
    {
     "name": "stdout",
     "output_type": "stream",
     "text": [
      "s=  11\n",
      "s=  Ajay\n",
      "s=  9\n",
      "s=  PythonJavaC\n",
      "s=  2.546\n",
      "s=  (2+4j)\n"
     ]
    }
   ],
   "source": [
    "# Program to use Polymorphism\n",
    "def show(s):\n",
    "    print(\"s= \",s)\n",
    "\n",
    "show(11)\n",
    "show(\"Ajay\")\n",
    "show(len(\"Programiz\"))\n",
    "show(\"Python\"+ \"Java\"+ \"C\")\n",
    "show(2.546)\n",
    "show(complex(2,4))"
   ]
  }
 ],
 "metadata": {
  "kernelspec": {
   "display_name": "Python 3",
   "language": "python",
   "name": "python3"
  },
  "language_info": {
   "codemirror_mode": {
    "name": "ipython",
    "version": 3
   },
   "file_extension": ".py",
   "mimetype": "text/x-python",
   "name": "python",
   "nbconvert_exporter": "python",
   "pygments_lexer": "ipython3",
   "version": "3.7.6"
  }
 },
 "nbformat": 4,
 "nbformat_minor": 4
}
